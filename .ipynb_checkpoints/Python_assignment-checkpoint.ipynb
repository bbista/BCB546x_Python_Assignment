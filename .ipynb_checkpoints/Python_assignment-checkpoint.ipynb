{
 "cells": [
  {
   "cell_type": "markdown",
   "metadata": {},
   "source": [
    "### BCB546X Python Assignment\n",
    "### This markdown contains codes and description for the Python assignment for the BCB546x Biodata skills\n"
   ]
  },
  {
   "cell_type": "markdown",
   "metadata": {},
   "source": [
    "#### Importing all packages required for the codes to run. "
   ]
  },
  {
   "cell_type": "code",
   "execution_count": 1,
   "metadata": {},
   "outputs": [],
   "source": [
    "from Bio import SeqIO\n",
    "from Bio.Data import CodonTable\n",
    "import pandas as pd\n",
    "import numpy as np"
   ]
  },
  {
   "cell_type": "markdown",
   "metadata": {},
   "source": [
    " #### 1. The following block codes for a function that read a fasta file and stores each description and sequence in a dictionary. "
   ]
  },
  {
   "cell_type": "code",
   "execution_count": 2,
   "metadata": {},
   "outputs": [],
   "source": [
    "def get_sequences_from_file(fasta_fn):\n",
    "    sequence_data_dict = {} #declaring an empty dictionary\n",
    "    for record in SeqIO.parse(fasta_fn, \"fasta\"): # parsing the fasta file supplied for each record\n",
    "        description = record.description.split() # splits each word in the description of the record\n",
    "        species_name = description[1] + \" \" + description[2] # the second and third element of the list as the speceis name \n",
    "        sequence_data_dict[species_name] = record.seq #adding the species name and sequence to the dictionary\n",
    "    return(sequence_data_dict) #return the dictionary as the result of the functio"
   ]
  },
  {
   "cell_type": "code",
   "execution_count": 3,
   "metadata": {},
   "outputs": [
    {
     "data": {
      "text/plain": [
       "{'Ursus spelaeus': Seq('ATGACCAACATCCGAAAAACCCATCCATTAGCTAAAATCATCAACAACTCATTT...AGA', SingleLetterAlphabet()),\n",
       " 'Ursus arctos': Seq('ATGACCAACATCCGAAAAACCCACCCATTAGCTAAAATCATCAACAACTCACTT...AGA', SingleLetterAlphabet()),\n",
       " 'Ursus thibetanus': Seq('ATGACCAACATCCGAAAAACCCATCCATTAGCCAAAATCATCAACAACTCACTC...AGA', SingleLetterAlphabet()),\n",
       " 'Melursus ursinus': Seq('ATGACCAACATCCGAAAAACCCACCCATTAGCTAAAATCATTAACAACTCACTC...AGA', SingleLetterAlphabet()),\n",
       " 'Ursus americanus': Seq('ATGACCAACATCCGAAAAACCCACCCATTAGCTAAAATCATCAACAACTCACTT...AGA', SingleLetterAlphabet()),\n",
       " 'Helarctos malayanus': Seq('ATGACCAACATCCGAAAAACCCACCCATTAGCTAAAATCATTAACAACTCACTT...AGA', SingleLetterAlphabet()),\n",
       " 'Ailuropoda melanoleuca': Seq('ATGATCAACATCCGAAAAACTCATCCATTAGTTAAAATTATCAACAACTCATTC...AGA', SingleLetterAlphabet()),\n",
       " 'Tremarctos ornatus': Seq('ATGACCAACATCCGAAAAACTCACCCACTAGCTAAAATCATCAACAGCTCATTC...AGA', SingleLetterAlphabet()),\n",
       " 'Ursus maritimus': Seq('ATGACCAACATCCGAAAAACCCACCCATTAGCTAAAATCATCAACAACTCATTT...AGA', SingleLetterAlphabet())}"
      ]
     },
     "execution_count": 3,
     "metadata": {},
     "output_type": "execute_result"
    }
   ],
   "source": [
    "seq = get_sequences_from_file(\"bears_cytb.fasta\")\n",
    "seq"
   ]
  },
  {
   "cell_type": "code",
   "execution_count": 4,
   "metadata": {},
   "outputs": [],
   "source": [
    "test_CDS = \"ATGACCAACATCCGAAAAACTCACTAA\" # contains a small CDS sequence for testing the translate function\n",
    "test_DNA = \"TTTATGACCAACATCCGAAAAACTCACTAGTTT\" #contains a DNA sequence with a small ORF "
   ]
  },
  {
   "cell_type": "markdown",
   "metadata": {},
   "source": [
    "#### 2. The following are the codes for a function that translate a DNA sequence into an Amino acid sequence. This function assume translation starts at the first site. "
   ]
  },
  {
   "cell_type": "code",
   "execution_count": 5,
   "metadata": {},
   "outputs": [
    {
     "data": {
      "text/plain": [
       "'FMTNIRKTHF'"
      ]
     },
     "execution_count": 5,
     "metadata": {},
     "output_type": "execute_result"
    }
   ],
   "source": [
    "def translate_CDS_function(nucleotides):\n",
    "    mito_table = CodonTable.unambiguous_dna_by_name[\"Vertebrate Mitochondrial\"] # import the genetic code for Vertebrate Mitochondria\n",
    "    aa_seq = '' # declares an empty variable for the aa sequence\n",
    "    for i in range(0, len(nucleotides), 3): # iterates through the length of the nucleotide with an increment of 3   \n",
    "        codon = nucleotides[i : i+3] # extracts the codon at the ith position \n",
    "        if codon not in mito_table.stop_codons and len(codon) == 3: # if the codon has three nucleotides and is not a stop codon add the corresponding AA  \n",
    "            aa_seq += mito_table.forward_table[codon]\n",
    "            \n",
    "    return(aa_seq) #return the result\n",
    "\n",
    "translate_CDS_function(test_DNA)"
   ]
  },
  {
   "cell_type": "markdown",
   "metadata": {},
   "source": [
    "#### 3. The following is an alternative function for translation that uses biopython utilities"
   ]
  },
  {
   "cell_type": "code",
   "execution_count": 6,
   "metadata": {},
   "outputs": [
    {
     "data": {
      "text/plain": [
       "'FMTNIRKTH'"
      ]
     },
     "execution_count": 6,
     "metadata": {},
     "output_type": "execute_result"
    }
   ],
   "source": [
    "def translate_function_2(nucleotides):\n",
    "    from Bio.Seq import Seq # importing seq from Bio.Seq package\n",
    "    from Bio.Alphabet import IUPAC\n",
    "    seq = Seq(nucleotides, IUPAC.unambiguous_dna) #Saving the supplied sequence as a Seq object\n",
    "    aa_seq = seq.translate(table=2, to_stop=True) # translates the sequence based on the genetic code 2 with an option to stop when a stop codon is encountered\n",
    "    return(str(aa_seq))\n",
    "    \n",
    "translate_function_2(test_DNA)\n"
   ]
  },
  {
   "cell_type": "markdown",
   "metadata": {},
   "source": [
    "#### 4. A function to compute the molecular weight of the aa sequence  supplied "
   ]
  },
  {
   "cell_type": "code",
   "execution_count": 7,
   "metadata": {},
   "outputs": [
    {
     "data": {
      "text/plain": [
       "1147.3504"
      ]
     },
     "execution_count": 7,
     "metadata": {},
     "output_type": "execute_result"
    }
   ],
   "source": [
    "from Bio.SeqUtils.ProtParam import ProteinAnalysis\n",
    "\n",
    "def compute_molecular_weight(aa_seq):\n",
    "    aa_seq_Analysed = ProteinAnalysis(aa_seq) #analyses the aa sequence supplied\n",
    "    molecular_weight = aa_seq_Analysed.molecular_weight() #using molecular weight attribute to calculate weight\n",
    "    return(molecular_weight) #returning the molecular weight\n",
    "\n",
    "compute_molecular_weight(\"FMTNIRKTH\")"
   ]
  },
  {
   "cell_type": "markdown",
   "metadata": {},
   "source": [
    "#### 5. Function to calculate the GC content of the DNA sequence"
   ]
  },
  {
   "cell_type": "code",
   "execution_count": 8,
   "metadata": {},
   "outputs": [
    {
     "data": {
      "text/plain": [
       "35.483870967741936"
      ]
     },
     "execution_count": 8,
     "metadata": {},
     "output_type": "execute_result"
    }
   ],
   "source": [
    "from Bio.SeqUtils import GC # impoting the GC function from Sequtils\n",
    "\n",
    "def gc_content_function(nucleotides):\n",
    "    gc_content = GC(nucleotides) # calculatinf the GC content\n",
    "    return(gc_content) # returning the GC content\n",
    "\n",
    "gc_content_function(\"TTTTTTTTTATGTATGCATCGATCGATCGATGCTACTACTACTACTACTACTACGATCGAGA\")"
   ]
  },
  {
   "cell_type": "markdown",
   "metadata": {},
   "source": [
    "#### The following extracts the sequences from a given fasta file and loads teh csv file provided as a pandas dataframe"
   ]
  },
  {
   "cell_type": "code",
   "execution_count": 9,
   "metadata": {},
   "outputs": [],
   "source": [
    "cytb_seqs = get_sequences_from_file(\"bears_cytb.fasta\") \n",
    "bears_df = pd.read_csv(\"bears_mass.csv\") # Includes only data for body mass, loads the csv as a dataframe \n",
    "species_list = list(bears_df.species) #makes a list of speceis name"
   ]
  },
  {
   "cell_type": "markdown",
   "metadata": {},
   "source": [
    "#### 6. Adding columns for molecular weight and GC content and assiging the value NaN as float (If float is not assigened the subsequent data assignemt in the colums is stored as objects and not float values and plotting will cause error)"
   ]
  },
  {
   "cell_type": "code",
   "execution_count": 10,
   "metadata": {},
   "outputs": [],
   "source": [
    "bears_df['molecular_weight'] = float(\"NaN\")\n",
    "bears_df['gc_content'] = float(\"NaN\")"
   ]
  },
  {
   "cell_type": "markdown",
   "metadata": {},
   "source": [
    "#### 7. Calculating MW and GC content for each species and saving them in the respective columns"
   ]
  },
  {
   "cell_type": "code",
   "execution_count": 11,
   "metadata": {},
   "outputs": [
    {
     "data": {
      "text/html": [
       "<div>\n",
       "<style scoped>\n",
       "    .dataframe tbody tr th:only-of-type {\n",
       "        vertical-align: middle;\n",
       "    }\n",
       "\n",
       "    .dataframe tbody tr th {\n",
       "        vertical-align: top;\n",
       "    }\n",
       "\n",
       "    .dataframe thead th {\n",
       "        text-align: right;\n",
       "    }\n",
       "</style>\n",
       "<table border=\"1\" class=\"dataframe\">\n",
       "  <thead>\n",
       "    <tr style=\"text-align: right;\">\n",
       "      <th></th>\n",
       "      <th>species</th>\n",
       "      <th>mass</th>\n",
       "      <th>molecular_weight</th>\n",
       "      <th>gc_content</th>\n",
       "    </tr>\n",
       "  </thead>\n",
       "  <tbody>\n",
       "    <tr>\n",
       "      <th>0</th>\n",
       "      <td>Ursus spelaeus</td>\n",
       "      <td>550.800</td>\n",
       "      <td>42458.7992</td>\n",
       "      <td>43.771930</td>\n",
       "    </tr>\n",
       "    <tr>\n",
       "      <th>1</th>\n",
       "      <td>Ursus arctos</td>\n",
       "      <td>203.500</td>\n",
       "      <td>42414.7435</td>\n",
       "      <td>43.771930</td>\n",
       "    </tr>\n",
       "    <tr>\n",
       "      <th>2</th>\n",
       "      <td>Ursus thibetanus</td>\n",
       "      <td>99.714</td>\n",
       "      <td>42306.6735</td>\n",
       "      <td>45.614035</td>\n",
       "    </tr>\n",
       "    <tr>\n",
       "      <th>3</th>\n",
       "      <td>Melursus ursinus</td>\n",
       "      <td>100.030</td>\n",
       "      <td>42551.9900</td>\n",
       "      <td>45.175439</td>\n",
       "    </tr>\n",
       "    <tr>\n",
       "      <th>4</th>\n",
       "      <td>Ursus americanus</td>\n",
       "      <td>110.560</td>\n",
       "      <td>42427.7439</td>\n",
       "      <td>43.947368</td>\n",
       "    </tr>\n",
       "    <tr>\n",
       "      <th>5</th>\n",
       "      <td>Helarctos malayanus</td>\n",
       "      <td>47.020</td>\n",
       "      <td>42560.8910</td>\n",
       "      <td>44.298246</td>\n",
       "    </tr>\n",
       "    <tr>\n",
       "      <th>6</th>\n",
       "      <td>Ailuropoda melanoleuca</td>\n",
       "      <td>118.200</td>\n",
       "      <td>42702.1845</td>\n",
       "      <td>40.789474</td>\n",
       "    </tr>\n",
       "    <tr>\n",
       "      <th>7</th>\n",
       "      <td>Tremarctos ornatus</td>\n",
       "      <td>140.700</td>\n",
       "      <td>42384.8266</td>\n",
       "      <td>44.385965</td>\n",
       "    </tr>\n",
       "    <tr>\n",
       "      <th>8</th>\n",
       "      <td>Ursus maritimus</td>\n",
       "      <td>425.100</td>\n",
       "      <td>42454.7873</td>\n",
       "      <td>44.298246</td>\n",
       "    </tr>\n",
       "  </tbody>\n",
       "</table>\n",
       "</div>"
      ],
      "text/plain": [
       "                  species     mass  molecular_weight  gc_content\n",
       "0          Ursus spelaeus  550.800        42458.7992   43.771930\n",
       "1            Ursus arctos  203.500        42414.7435   43.771930\n",
       "2        Ursus thibetanus   99.714        42306.6735   45.614035\n",
       "3        Melursus ursinus  100.030        42551.9900   45.175439\n",
       "4        Ursus americanus  110.560        42427.7439   43.947368\n",
       "5     Helarctos malayanus   47.020        42560.8910   44.298246\n",
       "6  Ailuropoda melanoleuca  118.200        42702.1845   40.789474\n",
       "7      Tremarctos ornatus  140.700        42384.8266   44.385965\n",
       "8         Ursus maritimus  425.100        42454.7873   44.298246"
      ]
     },
     "execution_count": 11,
     "metadata": {},
     "output_type": "execute_result"
    }
   ],
   "source": [
    "for key in cytb_seqs: #iterate throught the key in the dictionary\n",
    "    DNA_seq = str(cytb_seqs[key]) # importing sequence data in the dictionary according to the key and saving them as string\n",
    "    aa_seq = translate_function_2(DNA_seq) #calling a translate function to get aa seq\n",
    "    bears_df.loc[bears_df.species == key,'molecular_weight'] = compute_molecular_weight(aa_seq) #saves the molecular weight on molecular_weight column of respective species\n",
    "    bears_df.loc[bears_df.species == key,'gc_content'] = gc_content_function(DNA_seq) #saves theGC content on gc_content column of respective species\n",
    "bears_df"
   ]
  },
  {
   "cell_type": "markdown",
   "metadata": {},
   "source": [
    "#### 8.  The following plots a bar-chart of the mass with the x-axes labeled with species names"
   ]
  },
  {
   "cell_type": "code",
   "execution_count": 12,
   "metadata": {},
   "outputs": [],
   "source": [
    "import matplotlib.pyplot as plt\n",
    "import seaborn as sns\n",
    "import numpy as np"
   ]
  },
  {
   "cell_type": "code",
   "execution_count": 13,
   "metadata": {},
   "outputs": [],
   "source": [
    "%matplotlib inline"
   ]
  },
  {
   "cell_type": "code",
   "execution_count": 14,
   "metadata": {},
   "outputs": [],
   "source": [
    "plot_dims = (20, 9) # specifying the dimensions of the graph"
   ]
  },
  {
   "cell_type": "code",
   "execution_count": 15,
   "metadata": {},
   "outputs": [
    {
     "data": {
      "text/plain": [
       "[Text(0, 0.5, 'mass'), Text(0.5, 0, 'species')]"
      ]
     },
     "execution_count": 15,
     "metadata": {},
     "output_type": "execute_result"
    },
    {
     "data": {
      "image/png": "[encoded data removed]",
      "text/plain": [
       "<Figure size 1440x648 with 1 Axes>"
      ]
     },
     "metadata": {
      "needs_background": "light"
     },
     "output_type": "display_data"
    }
   ],
   "source": [
    "fig, ax = plt.subplots(figsize = plot_dims) # fixes the previously specified  dimension to the graph\n",
    "sns.barplot('species','mass', data = bears_df) #creates a bar-chart for speceis and mass\n",
    "ax.set(xlabel = 'species', ylabel = 'mass') # sets the labels for the x and the y axes"
   ]
  },
  {
   "cell_type": "markdown",
   "metadata": {},
   "source": [
    "1. Ursus spelaeus or cave bear is the largest bear in the list.\n",
    "2. This is an extinct species of bear. There is some evidence of hybridization of cave bears with brown bears with estimation of 0.9 to 2.4% cave bear DNA persisting in the Brown bear genome.\n",
    "\n",
    "[Barlow, Axel, et al. \"Partial genomic survival of cave bears in living brown bears.\" Nature ecology & evolution 2.10 (2018): 1563.]"
   ]
  },
  {
   "cell_type": "markdown",
   "metadata": {},
   "source": [
    "#### 9. Ploting visualization of the molecular weight (y-axis) as a function of GC-content (x-axis)."
   ]
  },
  {
   "cell_type": "code",
   "execution_count": 16,
   "metadata": {},
   "outputs": [
    {
     "name": "stderr",
     "output_type": "stream",
     "text": [
      "C:\\ProgramData\\Anaconda3\\lib\\site-packages\\scipy\\stats\\stats.py:1713: FutureWarning: Using a non-tuple sequence for multidimensional indexing is deprecated; use `arr[tuple(seq)]` instead of `arr[seq]`. In the future this will be interpreted as an array index, `arr[np.array(seq)]`, which will result either in an error or a different result.\n",
      "  return np.add.reduce(sorted[indexer] * weights, axis=axis) / sumval\n"
     ]
    },
    {
     "data": {
      "text/plain": [
       "Text(-6.67499999999999, 0.5, 'Molecular Weigth')"
      ]
     },
     "execution_count": 16,
     "metadata": {},
     "output_type": "execute_result"
    },
    {
     "data": {
      "image/png": "[encoded data removed]",
      "text/plain": [
       "<Figure size 648x648 with 1 Axes>"
      ]
     },
     "metadata": {},
     "output_type": "display_data"
    }
   ],
   "source": [
    "sns.set(font_scale=1.25) #setting the fontsize for the visualization\n",
    "fig, \n",
    "sns.lmplot(data = bears_df, x = 'gc_content', # Ploting visualization of the molecular weight (y-axis) as a function of GC-content (x-axis)\n",
    "    y = 'molecular_weight',\n",
    "    height = 9,    aspect =1 ) # size and dimension\n",
    "\n",
    "plt.xlabel('GC content') #setting the labels\n",
    "plt.ylabel('Molecular Weigth')"
   ]
  },
  {
   "cell_type": "markdown",
   "metadata": {},
   "source": [
    "#### 10. Saving the bears_df pandas dataframe as a csv file without a colum for indexing"
   ]
  },
  {
   "cell_type": "code",
   "execution_count": 17,
   "metadata": {},
   "outputs": [],
   "source": [
    "bears_df.to_csv(\"bears_mass_cytb.csv\", index = False)"
   ]
  },
  {
   "cell_type": "markdown",
   "metadata": {},
   "source": [
    "#### 11.1 Codes for plotting the nucletide diversity in each postion across the nucleotide sequence  \n",
    "Since the sequence length are the same we can assume the alignment to be the same and we can take the fasta file as an alignment to see the diversity of nucleotide in each position."
   ]
  },
  {
   "cell_type": "code",
   "execution_count": 18,
   "metadata": {},
   "outputs": [
    {
     "data": {
      "text/html": [
       "<div>\n",
       "<style scoped>\n",
       "    .dataframe tbody tr th:only-of-type {\n",
       "        vertical-align: middle;\n",
       "    }\n",
       "\n",
       "    .dataframe tbody tr th {\n",
       "        vertical-align: top;\n",
       "    }\n",
       "\n",
       "    .dataframe thead th {\n",
       "        text-align: right;\n",
       "    }\n",
       "</style>\n",
       "<table border=\"1\" class=\"dataframe\">\n",
       "  <thead>\n",
       "    <tr style=\"text-align: right;\">\n",
       "      <th></th>\n",
       "      <th>Diversity</th>\n",
       "      <th>position</th>\n",
       "    </tr>\n",
       "  </thead>\n",
       "  <tbody>\n",
       "    <tr>\n",
       "      <th>0</th>\n",
       "      <td>1</td>\n",
       "      <td>1</td>\n",
       "    </tr>\n",
       "    <tr>\n",
       "      <th>1</th>\n",
       "      <td>1</td>\n",
       "      <td>2</td>\n",
       "    </tr>\n",
       "    <tr>\n",
       "      <th>2</th>\n",
       "      <td>1</td>\n",
       "      <td>3</td>\n",
       "    </tr>\n",
       "    <tr>\n",
       "      <th>3</th>\n",
       "      <td>1</td>\n",
       "      <td>4</td>\n",
       "    </tr>\n",
       "    <tr>\n",
       "      <th>4</th>\n",
       "      <td>2</td>\n",
       "      <td>5</td>\n",
       "    </tr>\n",
       "  </tbody>\n",
       "</table>\n",
       "</div>"
      ],
      "text/plain": [
       "   Diversity  position\n",
       "0          1         1\n",
       "1          1         2\n",
       "2          1         3\n",
       "3          1         4\n",
       "4          2         5"
      ]
     },
     "execution_count": 18,
     "metadata": {},
     "output_type": "execute_result"
    }
   ],
   "source": [
    "# Following prepares a dataframe with postion and diversity in the nucleotide which will be piped into a plotting code.\n",
    "\n",
    "DNA_seq = [] # declare an empty list \n",
    "for key in cytb_seqs: #parses through each element in the dictionary\n",
    "    DNA_seq.append(str(cytb_seqs[key])) #saves each sequence in the list\n",
    "    \n",
    "data = pd.DataFrame(columns=[\"Diversity\"],index=range(0,len(DNA_seq[0]))) #creating a empty dataframe with a row for each nucleotide position\n",
    "\n",
    "for i in range(0,len(DNA_seq[0]),1): # iterates through each nucleotide positon in to the length of th the sequence \n",
    "        Nucleotide= []\n",
    "        for j in range(0,9,1): # saves each nucletide from all 9 species at the  jth position in a list\n",
    "            DNA = DNA_seq[j]\n",
    "            Nucleotide.append( DNA[i:i+1])\n",
    "        data.iloc[i]=[len(set(Nucleotide))]   # calculates the number of unique nucleotides in each positon and saces it to the corresponding position in the dataframe\n",
    "\n",
    "data[\"position\"] =data.index+1  #adds a new colum for the position as it starts from 1 unlike the index in python\n",
    "\n",
    "data.head(5)"
   ]
  },
  {
   "cell_type": "code",
   "execution_count": 19,
   "metadata": {},
   "outputs": [
    {
     "data": {
      "image/png": "[encoded data removed]",
      "text/plain": [
       "<Figure size 1212x288 with 1 Axes>"
      ]
     },
     "metadata": {},
     "output_type": "display_data"
    }
   ],
   "source": [
    "#plotting the diversity across each positon in the sequence\n",
    "\n",
    "my_fig = sns.lmplot( \"position\", \"Diversity\", data=data[(data.Diversity!=1)], #plotting using position as the x-axis and diversity as y\n",
    "                    fit_reg=False,\n",
    "                    height=4, \n",
    "                    aspect=4,\n",
    "                    scatter_kws={'alpha':0.3,\"s\": 50},\n",
    "                    hue = \"Diversity\", markers='D')\n"
   ]
  },
  {
   "cell_type": "markdown",
   "metadata": {},
   "source": [
    "A diversity of 1 means no change in nucleotide at all. "
   ]
  },
  {
   "cell_type": "markdown",
   "metadata": {},
   "source": [
    "#### 11.2 Codes for plotting the amino acid diversity in each postion across the nucleotide sequence  \n",
    "The codes are the same as 11.1 only difference is instead of DNA sequence we translate them to amino acid sequence"
   ]
  },
  {
   "cell_type": "code",
   "execution_count": 20,
   "metadata": {},
   "outputs": [],
   "source": [
    "# Saving aa sequences in a list after translating them\n",
    "AA_seq = [] \n",
    "for key in cytb_seqs:\n",
    "    AA_seq.append(translate_function_2(str(cytb_seqs[key])))"
   ]
  },
  {
   "cell_type": "code",
   "execution_count": 23,
   "metadata": {},
   "outputs": [
    {
     "data": {
      "text/html": [
       "<div>\n",
       "<style scoped>\n",
       "    .dataframe tbody tr th:only-of-type {\n",
       "        vertical-align: middle;\n",
       "    }\n",
       "\n",
       "    .dataframe tbody tr th {\n",
       "        vertical-align: top;\n",
       "    }\n",
       "\n",
       "    .dataframe thead th {\n",
       "        text-align: right;\n",
       "    }\n",
       "</style>\n",
       "<table border=\"1\" class=\"dataframe\">\n",
       "  <thead>\n",
       "    <tr style=\"text-align: right;\">\n",
       "      <th></th>\n",
       "      <th>Diversity</th>\n",
       "      <th>position</th>\n",
       "    </tr>\n",
       "  </thead>\n",
       "  <tbody>\n",
       "    <tr>\n",
       "      <th>0</th>\n",
       "      <td>1</td>\n",
       "      <td>1</td>\n",
       "    </tr>\n",
       "    <tr>\n",
       "      <th>1</th>\n",
       "      <td>2</td>\n",
       "      <td>2</td>\n",
       "    </tr>\n",
       "    <tr>\n",
       "      <th>2</th>\n",
       "      <td>1</td>\n",
       "      <td>3</td>\n",
       "    </tr>\n",
       "    <tr>\n",
       "      <th>3</th>\n",
       "      <td>1</td>\n",
       "      <td>4</td>\n",
       "    </tr>\n",
       "    <tr>\n",
       "      <th>4</th>\n",
       "      <td>1</td>\n",
       "      <td>5</td>\n",
       "    </tr>\n",
       "  </tbody>\n",
       "</table>\n",
       "</div>"
      ],
      "text/plain": [
       "   Diversity  position\n",
       "0          1         1\n",
       "1          2         2\n",
       "2          1         3\n",
       "3          1         4\n",
       "4          1         5"
      ]
     },
     "execution_count": 23,
     "metadata": {},
     "output_type": "execute_result"
    }
   ],
   "source": [
    "dataAA = pd.DataFrame(columns=[\"Diversity\"],index=range(0,len(AA_seq[0]))) #creating a empty dataframe with a row for each nucleotide position\n",
    "\n",
    "for i in range(0,len(AA_seq[0]),1): # iterates through each amino acid positon in to the length of th the sequence \n",
    "        AA = []\n",
    "        for j in range(0,9,1): # saves each nucletide from all 9 species at the  jth position in a list\n",
    "            aa = AA_seq[j]\n",
    "            AA.append( aa[i:i+1])\n",
    "        dataAA.iloc[i]=[len(set(AA))]   # calculates the number of unique aas in each positon and saces it to the corresponding position in the dataframe\n",
    "\n",
    "dataAA[\"position\"] =dataAA.index+1  #adds a new colum for the position as it starts from 1 unlike the index in python\n",
    "\n",
    "dataAA.head(5)"
   ]
  },
  {
   "cell_type": "code",
   "execution_count": 22,
   "metadata": {},
   "outputs": [
    {
     "data": {
      "image/png": "[encoded data removed]",
      "text/plain": [
       "<Figure size 1212x288 with 1 Axes>"
      ]
     },
     "metadata": {},
     "output_type": "display_data"
    }
   ],
   "source": [
    "#plotting the diversity across each positon in the sequence not looking at sites with no diversity\n",
    "my_fig = sns.lmplot( \"position\", \"Diversity\", data=dataAA[(dataAA.Diversity!=1)],\n",
    "                    fit_reg=False,\n",
    "                    height=4,\n",
    "                    aspect=4,\n",
    "                    scatter_kws={'alpha':0.3,\"s\": 50},\n",
    "                    hue = \"Diversity\", markers='D')\n"
   ]
  },
  {
   "cell_type": "markdown",
   "metadata": {},
   "source": [
    "Looking through the two graphs we see that nuclotide diversity doesn not really translate into amino acid diversity which is due to the degenerecy of the genetic code."
   ]
  },
  {
   "cell_type": "code",
   "execution_count": null,
   "metadata": {},
   "outputs": [],
   "source": []
  }
 ],
 "metadata": {
  "kernelspec": {
   "display_name": "Python 3",
   "language": "python",
   "name": "python3"
  },
  "language_info": {
   "codemirror_mode": {
    "name": "ipython",
    "version": 3
   },
   "file_extension": ".py",
   "mimetype": "text/x-python",
   "name": "python",
   "nbconvert_exporter": "python",
   "pygments_lexer": "ipython3",
   "version": "3.7.1"
  }
 },
 "nbformat": 4,
 "nbformat_minor": 2
}
